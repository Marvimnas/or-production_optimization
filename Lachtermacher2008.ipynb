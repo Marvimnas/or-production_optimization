{
  "nbformat": 4,
  "nbformat_minor": 0,
  "metadata": {
    "colab": {
      "provenance": [],
      "authorship_tag": "ABX9TyOoyQVLQKJi5wxF24dv1V3v",
      "include_colab_link": true
    },
    "kernelspec": {
      "name": "python3",
      "display_name": "Python 3"
    },
    "language_info": {
      "name": "python"
    }
  },
  "cells": [
    {
      "cell_type": "markdown",
      "metadata": {
        "id": "view-in-github",
        "colab_type": "text"
      },
      "source": [
        "<a href=\"https://colab.research.google.com/github/Marvimnas/or-production_optimization/blob/main/Lachtermacher2008.ipynb\" target=\"_parent\"><img src=\"https://colab.research.google.com/assets/colab-badge.svg\" alt=\"Open In Colab\"/></a>"
      ]
    },
    {
      "cell_type": "code",
      "execution_count": null,
      "metadata": {
        "colab": {
          "base_uri": "https://localhost:8080/"
        },
        "id": "r8i47k4trVaf",
        "outputId": "cc22e480-820b-4eef-dd4e-a2810403c86a"
      },
      "outputs": [
        {
          "output_type": "stream",
          "name": "stdout",
          "text": [
            "Collecting pulp\n",
            "  Downloading PuLP-2.7.0-py3-none-any.whl (14.3 MB)\n",
            "\u001b[2K     \u001b[90m━━━━━━━━━━━━━━━━━━━━━━━━━━━━━━━━━━━━━━━━\u001b[0m \u001b[32m14.3/14.3 MB\u001b[0m \u001b[31m43.0 MB/s\u001b[0m eta \u001b[36m0:00:00\u001b[0m\n",
            "\u001b[?25hInstalling collected packages: pulp\n",
            "Successfully installed pulp-2.7.0\n"
          ]
        }
      ],
      "source": [
        "!pip install pulp"
      ]
    },
    {
      "cell_type": "code",
      "source": [
        "from pulp import *"
      ],
      "metadata": {
        "id": "uXLmJXBYtEi5"
      },
      "execution_count": null,
      "outputs": []
    },
    {
      "cell_type": "code",
      "source": [
        "producao = LpProblem('Produção',LpMinimize)\n"
      ],
      "metadata": {
        "id": "UV5x1ITYvhXw"
      },
      "execution_count": null,
      "outputs": []
    },
    {
      "cell_type": "code",
      "source": [
        "x11 = LpVariable('x11', lowBound = 0)\n",
        "x12 = LpVariable('x12', lowBound = 0)\n",
        "x13 = LpVariable('x13', lowBound = 0)\n",
        "x21 = LpVariable('x21', lowBound = 0)\n",
        "x22 = LpVariable('x22', lowBound = 0)\n",
        "x23 = LpVariable('x23', lowBound = 0)\n",
        "x31 = LpVariable('x31', lowBound = 0)\n",
        "x32 = LpVariable('x32', lowBound = 0)\n",
        "x33 = LpVariable('x33', lowBound = 0)\n",
        "x41 = LpVariable('x41', lowBound = 0)\n",
        "x42 = LpVariable('x42', lowBound = 0)\n",
        "x51 = LpVariable('x51', lowBound = 0)\n",
        "x52 = LpVariable('x52', lowBound = 0)\n",
        "\n"
      ],
      "metadata": {
        "id": "NSof8GpvwFe6"
      },
      "execution_count": null,
      "outputs": []
    },
    {
      "cell_type": "code",
      "source": [
        "producao += 90*x11+62*x12+76*x13+82*x21+58*x22+70*x23+92*x31+64*x32+80*x33+84*x41+56*x42+86*x51+58*x52"
      ],
      "metadata": {
        "id": "xSNrOVBSw4Kd"
      },
      "execution_count": null,
      "outputs": []
    },
    {
      "cell_type": "code",
      "source": [
        "producao += x11 + x12 + x13 <= 2000\n",
        "producao += x21 + x22 + x23 <= 3000\n",
        "producao += x31 + x32 + x33 <= 2000\n",
        "producao += x41 + x42 <= 3000\n",
        "producao += x51 + x52 <= 5000\n",
        "producao += x11 + x21 + x31 + x41 + x51 == 5000\n",
        "producao += x12 + x22 + x32 + x42 + x52 == 3000\n",
        "producao += x13 + x23 + x33 == 4000"
      ],
      "metadata": {
        "id": "-LLSKHU4xZmA"
      },
      "execution_count": null,
      "outputs": []
    },
    {
      "cell_type": "code",
      "source": [
        "producao"
      ],
      "metadata": {
        "colab": {
          "base_uri": "https://localhost:8080/"
        },
        "id": "fbe2CgfQyGF6",
        "outputId": "a388c57d-6aa5-42dc-a6d8-961f81327eb2"
      },
      "execution_count": null,
      "outputs": [
        {
          "output_type": "execute_result",
          "data": {
            "text/plain": [
              "Produção:\n",
              "MINIMIZE\n",
              "90*x11 + 62*x12 + 76*x13 + 82*x21 + 58*x22 + 70*x23 + 92*x31 + 64*x32 + 80*x33 + 84*x41 + 56*x42 + 86*x51 + 58*x52 + 0\n",
              "SUBJECT TO\n",
              "_C1: x11 + x12 + x13 <= 2000\n",
              "\n",
              "_C2: x21 + x22 + x23 <= 3000\n",
              "\n",
              "_C3: x31 + x32 + x33 <= 2000\n",
              "\n",
              "_C4: x41 + x42 <= 3000\n",
              "\n",
              "_C5: x51 + x52 <= 5000\n",
              "\n",
              "_C6: x11 + x21 + x31 + x41 + x51 = 5000\n",
              "\n",
              "_C7: x12 + x22 + x32 + x42 + x52 = 3000\n",
              "\n",
              "_C8: x13 + x23 + x33 = 4000\n",
              "\n",
              "VARIABLES\n",
              "x11 Continuous\n",
              "x12 Continuous\n",
              "x13 Continuous\n",
              "x21 Continuous\n",
              "x22 Continuous\n",
              "x23 Continuous\n",
              "x31 Continuous\n",
              "x32 Continuous\n",
              "x33 Continuous\n",
              "x41 Continuous\n",
              "x42 Continuous\n",
              "x51 Continuous\n",
              "x52 Continuous"
            ]
          },
          "metadata": {},
          "execution_count": 12
        }
      ]
    },
    {
      "cell_type": "code",
      "source": [
        "producao.solve()"
      ],
      "metadata": {
        "colab": {
          "base_uri": "https://localhost:8080/"
        },
        "id": "5dJRFx4nySZ3",
        "outputId": "e349125f-3af6-4745-8296-68cae28f6af2"
      },
      "execution_count": null,
      "outputs": [
        {
          "output_type": "execute_result",
          "data": {
            "text/plain": [
              "1"
            ]
          },
          "metadata": {},
          "execution_count": 13
        }
      ]
    },
    {
      "cell_type": "code",
      "source": [
        "for v in producao.variables():\n",
        "  print (v.name, \"=\",v.varValue)"
      ],
      "metadata": {
        "colab": {
          "base_uri": "https://localhost:8080/"
        },
        "id": "PMqBkgskyYX3",
        "outputId": "d52e58dd-6372-4b94-9725-d8525d44b756"
      },
      "execution_count": null,
      "outputs": [
        {
          "output_type": "stream",
          "name": "stdout",
          "text": [
            "x11 = 0.0\n",
            "x12 = 0.0\n",
            "x13 = 1000.0\n",
            "x21 = 0.0\n",
            "x22 = 0.0\n",
            "x23 = 3000.0\n",
            "x31 = 0.0\n",
            "x32 = 0.0\n",
            "x33 = 0.0\n",
            "x41 = 0.0\n",
            "x42 = 3000.0\n",
            "x51 = 5000.0\n",
            "x52 = 0.0\n"
          ]
        }
      ]
    },
    {
      "cell_type": "code",
      "source": [
        "print('Resultado do custo mínimo =',value(producao.objective))\n"
      ],
      "metadata": {
        "colab": {
          "base_uri": "https://localhost:8080/"
        },
        "id": "Ti9MIhmQyo7o",
        "outputId": "2983dc3e-d38e-4719-f153-4dd9b01b677d"
      },
      "execution_count": null,
      "outputs": [
        {
          "output_type": "stream",
          "name": "stdout",
          "text": [
            "Resultado do custo mínimo = 884000.0\n"
          ]
        }
      ]
    },
    {
      "cell_type": "code",
      "source": [],
      "metadata": {
        "id": "fqSAHPb2y6xg"
      },
      "execution_count": null,
      "outputs": []
    }
  ]
}